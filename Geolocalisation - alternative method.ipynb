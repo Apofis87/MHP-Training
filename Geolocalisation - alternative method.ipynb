{
 "cells": [
  {
   "cell_type": "code",
   "execution_count": 3,
   "id": "0a93c84d",
   "metadata": {},
   "outputs": [
    {
     "name": "stdout",
     "output_type": "stream",
     "text": [
      "Calculating WC2R 1LA\n",
      "Calculating EC4M 8AD\n"
     ]
    }
   ],
   "source": [
    "import requests\n",
    "import json\n",
    "import pandas as pd\n",
    "results = []\n",
    "postcodes = ['WC2R 1LA', 'EC4M 8AD']\n",
    "for postcode in postcodes:\n",
    "    print('Calculating ' + postcode)\n",
    "    api_call = requests.get('https://postcodes.io/postcodes/' + postcode.replace(' ', ''))\n",
    "    long = json.loads(api_call.text)['result']['longitude']\n",
    "    lat = json.loads(api_call.text)['result']['latitude']\n",
    "    result = [postcode, lat, long]\n",
    "    results = results + [result]\n",
    "results_df = pd.DataFrame(results)\n",
    "results_df.columns = ['Postcode', 'Latitude', 'Longitude']\n",
    "results_df.to_csv('PostcodeLatLong_Results.csv')"
   ]
  },
  {
   "cell_type": "code",
   "execution_count": null,
   "id": "19cdb2b7",
   "metadata": {},
   "outputs": [],
   "source": []
  }
 ],
 "metadata": {
  "kernelspec": {
   "display_name": "Python 3 (ipykernel)",
   "language": "python",
   "name": "python3"
  },
  "language_info": {
   "codemirror_mode": {
    "name": "ipython",
    "version": 3
   },
   "file_extension": ".py",
   "mimetype": "text/x-python",
   "name": "python",
   "nbconvert_exporter": "python",
   "pygments_lexer": "ipython3",
   "version": "3.9.7"
  }
 },
 "nbformat": 4,
 "nbformat_minor": 5
}
